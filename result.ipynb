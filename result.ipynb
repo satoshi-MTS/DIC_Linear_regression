{
 "cells": [
  {
   "cell_type": "markdown",
   "id": "e79a6d9c-8dc2-45b0-9602-4486de124210",
   "metadata": {},
   "source": [
    "# "
   ]
  },
  {
   "cell_type": "markdown",
   "id": "a9f29e46-5541-4e67-a9fe-f6701cc4251a",
   "metadata": {},
   "source": [
    "## 【問題1】仮定関数\n",
    "以下の数式で表される線形回帰の仮定関数を実装してください。メソッドの雛形を用意してあります\n",
    "\n",
    "クラスの外から呼び出すことがないメソッドのため、Pythonの慣例としてアンダースコアを先頭にひとつつけています。"
   ]
  },
  {
   "cell_type": "code",
   "execution_count": 1,
   "id": "19e94c4f-0341-4aa5-b100-b7e9e36fb72f",
   "metadata": {},
   "outputs": [],
   "source": [
    "import numpy as np"
   ]
  },
  {
   "cell_type": "code",
   "execution_count": 2,
   "id": "f568d1f5-22f7-4011-832d-dc4d49f198a9",
   "metadata": {},
   "outputs": [],
   "source": [
    "# def _linear_hypothesis(X, n_sample, theta_T):\n",
    "#     \"\"\"\n",
    "#     線形の仮定関数を計算する\n",
    "#     Parameters\n",
    "#     ----------\n",
    "#     X : 次の形のndarray, shape (n_samples, n_features)\n",
    "#       訓練データ\n",
    "#     Returns\n",
    "#     -------\n",
    "#       次の形のndarray, shape (n_samples, 1)\n",
    "#       線形の仮定関数による推定結果\n",
    "#     \"\"\"\n",
    "#     h = np.array([])\n",
    "\n",
    "#     for i in range(n_sample):\n",
    "#         h = np.append(h, X[i] @ theta_T)\n",
    "\n",
    "#     return h.reshape(n_sample, 1)"
   ]
  },
  {
   "cell_type": "markdown",
   "id": "f70e5305-449d-416c-8af2-df654b97bbfa",
   "metadata": {},
   "source": [
    "# 【問題2】最急降下法\n",
    "最急降下法により学習させる実装を行なってください。以下の式で表されるパラメータの更新式のメソッド_gradient_descentを追加し、fit\n",
    "メソッドから呼び出すようにしてください。\n",
    "\n",
    "$$\\theta_j=\\theta_j-\\alpha\\frac{1}{m}\\sum_{i=1}^{m}[(h_\\theta(x^i)-y^i)x_j^i]$$\n",
    "\n",
    "$\\alpha$ : 学習率\n",
    "\n",
    "\n",
    "$i$ : サンプルのインデックス\n",
    "\n",
    "\n",
    "$j$ : 特徴量のインデックス\n",
    "\n",
    "\n",
    "雛形\n",
    "\n",
    "\n",
    "ScratchLinearRegressionクラスへ以下のメソッドを追加してください。コメントアウト部分の説明も記述してください。 "
   ]
  },
  {
   "cell_type": "markdown",
   "id": "6402581c-46f7-462d-8491-6fe555673684",
   "metadata": {},
   "source": [
    "単公式なら\n",
    "$$h_\\theta = \\alpha X + \\beta$$\n"
   ]
  },
  {
   "cell_type": "code",
   "execution_count": 3,
   "id": "5cb379e3-7017-4c97-b352-59dd5a0da0a7",
   "metadata": {},
   "outputs": [],
   "source": [
    "# def _gradient_descent(function, XX, y, ite, alpha):\n",
    "    \n",
    "#     # XXの調整\n",
    "#     XR = XX.reshape(1, XX.shape[0]) # 2次元に変換\n",
    "#     XT = XR.T # 転置\n",
    "#     X = np.zeros((XT.shape[0], XT.shape[1] + 1)) # 初期化0埋め\n",
    "#     X_0 = 1\n",
    "\n",
    "#     # Xの追加\n",
    "#     for i in range(X.shape[0]):\n",
    "#         X[i] = np.append(X_0, XT[i]) # 切片ステータスである1を各行に１番目に追加\n",
    "\n",
    "#     # Xからのパラメータ    \n",
    "#     n_sample = X.shape[0] # サンプル数\n",
    "#     n_feature = X.shape[1] # 特徴量の数\n",
    "\n",
    "#     # 重みの設定\n",
    "#     theta = np.zeros((1, n_feature)) #重みの設定\n",
    "#     theta_history = np.zeros((ite, n_feature)) # 10回繰り返すので初期値\n",
    "#     theta_T = theta.T\n",
    "#     ARRAY = np.array([])\n",
    "\n",
    "#     for ite in range (ite):\n",
    "#         for j in range(n_feature):\n",
    "#             for i in range(n_sample):\n",
    "#                 ARRAY = np.append(ARRAY, ((_linear_hypothesis(X, n_sample, theta_T)[i] - y[i]) * X[i][j]))\n",
    "#             theta_T[j] = theta_T[j] - ((alpha / n_sample) * ARRAY.sum()) \n",
    "#             ARRAY = np.array([])\n",
    "#         theta_history[ite] = theta_T.T\n",
    "        \n",
    "    \n",
    "#     import matplotlib.pyplot as plt\n",
    "#     plt.plot(np.arange(ite + 1), theta_history[:, 0])\n",
    "#     plt.plot(np.arange(ite + 1), theta_history[:, 1]);\n",
    "    \n",
    "#     return theta_T"
   ]
  },
  {
   "cell_type": "markdown",
   "id": "01628b3d-a2d7-4216-9683-fffe2fab8bb2",
   "metadata": {},
   "source": [
    "## 【問題4】平均二乗誤差\n",
    "線形回帰の指標値として用いられる平均二乗誤差（mean square error, MSE）の関数を作成してください。\n",
    "\n",
    "\n",
    "平均二乗誤差関数は回帰問題全般で使える関数のため、ScratchLinearRegressionクラスのメソッドではなく、別の関数として作成してください。雛形を用意してあります。\n",
    "\n",
    "\n",
    "平均二乗誤差は以下の数式で表されます。\n",
    "\n",
    "\n",
    "\n",
    "なお、最急降下法のための目的関数（損失関数）としては、これを2で割ったものを使用します。（問題5, 9）"
   ]
  },
  {
   "cell_type": "code",
   "execution_count": 4,
   "id": "d7156eb8-5b29-42fb-b6da-3a2e4365047d",
   "metadata": {},
   "outputs": [],
   "source": [
    "def MSE(y_pred, y):\n",
    "    \"\"\"\n",
    "    平均二乗誤差の計算\n",
    "    Parameters\n",
    "    ----------\n",
    "    y_pred : 次の形のndarray, shape (n_samples,)\n",
    "      推定した値\n",
    "    y : 次の形のndarray, shape (n_samples,)\n",
    "      正解値\n",
    "    Returns\n",
    "    ----------\n",
    "    mse : numpy.float\n",
    "      平均二乗誤差\n",
    "    \"\"\"\n",
    "    \n",
    "    n_sample = y_pred.shape[0] # サンプル数\n",
    "    mse = ((y_pred - y) ** 2).sum() / n_sample # 計算式\n",
    "\n",
    "    return mse"
   ]
  },
  {
   "cell_type": "code",
   "execution_count": 5,
   "id": "19115d1d-c34b-4b9b-80c5-85bfd83fc267",
   "metadata": {},
   "outputs": [
    {
     "data": {
      "text/plain": [
       "2.8"
      ]
     },
     "execution_count": 5,
     "metadata": {},
     "output_type": "execute_result"
    }
   ],
   "source": [
    "import numpy as np\n",
    "y_pred = np.array([10, 20, 31, 42, 53])\n",
    "y = np.array([10, 20, 30, 40, 50])\n",
    "from sklearn.metrics import mean_squared_error\n",
    "mean_squared_error(y_pred, y)"
   ]
  },
  {
   "cell_type": "code",
   "execution_count": 6,
   "id": "e24fd8eb-fc7a-4f25-90e6-f8ad6554627f",
   "metadata": {},
   "outputs": [
    {
     "data": {
      "text/plain": [
       "2.8"
      ]
     },
     "execution_count": 6,
     "metadata": {},
     "output_type": "execute_result"
    }
   ],
   "source": [
    "MSE(y_pred, y)"
   ]
  },
  {
   "cell_type": "markdown",
   "id": "740735ee-6f53-40f5-aa5f-33ec9e374000",
   "metadata": {},
   "source": [
    "## 【問題3】推定\n",
    "推定する仕組みを実装してください。ScratchLinearRegressionクラスの雛形に含まれるpredictメソッドに書き加えてください。\n",
    "\n",
    "\n",
    "仮定関数 $h_\\theta(x)$ の出力が推定結果です【問題3】推定\n",
    "推定する仕組みを実装してください。ScratchLinearRegressionクラスの雛形に含まれるpredictメソッドに書き加えてください。\n",
    "\n",
    "\n",
    "仮定関数 $h_\\theta(x)$ の出力が推定結果です\n",
    "\n",
    "## 【問題5】目的関数\n",
    "以下の数式で表される線形回帰の 目的関数（損失関数） を実装してください。そして、これをself.loss, self.val_lossに記録するようにしてください。\n",
    "\n",
    "\n",
    "目的関数（損失関数） $J(\\theta)$ は次の式です。【問題5】目的関数\n",
    "以下の数式で表される線形回帰の 目的関数（損失関数） を実装してください。そして、これをself.loss, self.val_lossに記録するようにしてください。\n",
    "\n",
    "\n",
    "目的関数（損失関数） $J(\\theta)$ は次の式です。"
   ]
  },
  {
   "cell_type": "code",
   "execution_count": 115,
   "id": "c2979b2d-6cf8-4332-94ee-b4a4ab824aca",
   "metadata": {},
   "outputs": [],
   "source": [
    "import numpy as np\n",
    "import matplotlib.pyplot as plt\n",
    "\n",
    "\n",
    "class ScratchLinearRegression():\n",
    "\n",
    "    def __init__(self, num_iter, lr, no_bias=False, verbose=False):\n",
    "        \"\"\"\n",
    "        線形回帰のスクラッチ実装\n",
    "\n",
    "        Parameters\n",
    "        ----------\n",
    "        num_iter : int\n",
    "        イテレーション数\n",
    "        lr : float\n",
    "        学習率\n",
    "        no_bias : bool\n",
    "        バイアス項を入れない場合はTrue\n",
    "        verbose : bool\n",
    "        学習過程を出力する場合はTrue\n",
    "\n",
    "        Attributes\n",
    "        ----------\n",
    "        self.coef_ : 次の形のndarray, shape (nL_features,)\n",
    "        パラメータ\n",
    "        self.loss : 次の形のndarray, shape (self.iter,)\n",
    "        訓練データに対する損失の記録\n",
    "        self.val_loss : 次の形のndarray, shape (self.iter,)\n",
    "        検証データに対する損失の記録\n",
    "        \"\"\"\n",
    "        # ハイパーパラメータを属性として記録\n",
    "        self.iter = num_iter\n",
    "        self.lr = lr\n",
    "        self.no_bias = no_bias\n",
    "        self.verbose = verbose\n",
    "        # 損失を記録する配列を用意\n",
    "        self.loss = np.zeros(self.iter)  # 損失関数格納用\n",
    "        self.val_loss = np.zeros(self.iter)\n",
    "        \n",
    "    def _linear_hypothesis(self, X, theta_T,):\n",
    "        \"\"\"\n",
    "        線形の仮定関数を計算する\n",
    "        Parameters\n",
    "        ----------\n",
    "        X : 次の形のndarray, shape (n_samples, n_features)\n",
    "        訓練データ\n",
    "        theta_T : 次の形のndarray, shape(n_features, 1)\n",
    "        更新されていく重み\n",
    "        Returns\n",
    "        -------\n",
    "        次の形のndarray, shape (n_samples, 1)\n",
    "        線形の仮定関数による推定結果\n",
    "        \"\"\"\n",
    "        # この関数を使用するたび初期化\n",
    "        h = np.array([])\n",
    "        \n",
    "        # 仮定関数の作成\n",
    "        for i in range(X.shape[0]):\n",
    "            h = np.append(h, X[i] @ theta_T)\n",
    "\n",
    "        return h.reshape(X.shape[0], 1)\n",
    "    \n",
    "    def _gradient_descent(self, X, y, theta_T):\n",
    "        \"\"\"\n",
    "        傾きを計算する。\n",
    "        Parameters\n",
    "        ----------\n",
    "        X : 次の形のndarray, shape (n_samples, n_features)\n",
    "        訓練データ\n",
    "        y : 次の形のndarray, shape (n_samples, 1)\n",
    "        目的データ\n",
    "        theta_T : 次の形のndarray, shape(n_features, 1)\n",
    "        更新されていく重み\n",
    "        Returns\n",
    "        -------\n",
    "        次の形のndarray, shape (n_samples, 1)\n",
    "        線形の仮定関数による推定結果\n",
    "        \"\"\"\n",
    "\n",
    "        for j in range(X.shape[1]):\n",
    "            # 1 * 7 @ 7 * 1の形に変更して答を合計値の1*1で出力\n",
    "            sigma = (X[:, j].T @ (self._linear_hypothesis(X, theta_T) - y)).astype('uint64')\n",
    "            theta_T[j] = theta_T[j] - ((self.lr / X.shape[0]) * sigma)\n",
    "\n",
    "        return theta_T  # thetaを返す\n",
    "    \n",
    "    def fit(self, Xtrain, ytrain, X_val=None, y_val=None):\n",
    "        \"\"\"\n",
    "        線形回帰を学習する。検証データが入力された場合はそれに対する損失と精度もイテレーションごとに計算する。\n",
    "        theta_Tを最適にしてグローバルにするため\n",
    "        Parameters\n",
    "        ----------\n",
    "        Xtrain : 次の形のndarray, shape (n_samples, n_features)\n",
    "            訓練データの特徴量\n",
    "        ytrain : 次の形のndarray, shape (n_samples, )\n",
    "            訓練データの正解値\n",
    "        X_val : 次の形のndarray, shape (n_samples, n_features)\n",
    "            検証データの特徴量\n",
    "        y_val : 次の形のndarray, shape (n_samples, )\n",
    "            検証データの正解値\n",
    "        \"\"\"\n",
    "        \n",
    "        #\n",
    "        #バイアス項がある場合\n",
    "        #\n",
    "        if self.no_bias == False:\n",
    "            \n",
    "            # XXの調整\n",
    "            X = np.zeros((Xtrain.shape[0], Xtrain.shape[1] + 1))  # 初期化0埋め\n",
    "            X_0 = 1\n",
    "\n",
    "            # Xの追加\n",
    "            for i in range(X.shape[0]):\n",
    "                X[i] = np.append(X_0, Xtrain[i])  # 切片ステータスである1を各行に１番目に追加\n",
    "\n",
    "            # yの変形\n",
    "            y = ytrain.reshape(ytrain.shape[0], 1)\n",
    "\n",
    "            # 重みの設定\n",
    "            self.theta = np.zeros((1, X.shape[1]))  # 重みの設定\n",
    "            theta_T = self.theta.T\n",
    "            theta_history = np.zeros((self.iter, X.shape[1]))  # iter回繰り返すので初期値\n",
    "\n",
    "            for i in range(self.iter):\n",
    "                theta_T = self._gradient_descent(X, y, theta_T)\n",
    "                theta_history[i] = theta_T.T\n",
    "                self.theta_T = theta_T\n",
    "                self.loss[i] = self.get_loss(X, y, theta_T)\n",
    "\n",
    "            # 計算後をグローバルに\n",
    "            self.theta_history = theta_history\n",
    "            self.theta_T = theta_T\n",
    "            self.coef_ = theta_T.T[:, 1:]\n",
    "            self.intercept_ = theta_T.T[:, 0]\n",
    "\n",
    "            # 学習仮定出力\n",
    "            if self.verbose:\n",
    "                print('学習過程 : {}'.format(theta_history))\n",
    "\n",
    "\n",
    "            #   \n",
    "            # 検証データがONのとき\n",
    "            #\n",
    "            \n",
    "            if type(Xtrain)==type(X_val):\n",
    "\n",
    "                # XXの調整\n",
    "                Xv = np.zeros((X_val.shape[0], X_val.shape[1] + 1))  # 初期化0埋め\n",
    "                X_0 = 1\n",
    "\n",
    "                # Xの追加\n",
    "                for i in range(X_val.shape[0]):\n",
    "                    Xv[i] = np.append(X_0, X_val[i])  # 切片ステータスである1を各行に１番目に追加\n",
    "\n",
    "                # yの変形\n",
    "                yv = y_val.reshape(y_val.shape[0], 1)\n",
    "\n",
    "                # 重みの設定\n",
    "                self.theta_v = np.zeros((1, Xv.shape[1]))  # 重みの設定\n",
    "                theta_T_v = self.theta_v.T\n",
    "                theta_history_v = np.zeros((self.iter, Xv.shape[1]))  # iter回繰り返すので初期値\n",
    "\n",
    "                for i in range(self.iter):\n",
    "                    theta_T_v = self._gradient_descent(Xv, yv, theta_T_v)\n",
    "                    theta_history_v[i] = theta_T_v.T\n",
    "                    self.theta_T_v = theta_T_v\n",
    "                    self.val_loss[i] = self.get_loss(Xv, yv, theta_T_v)\n",
    "\n",
    "                # 計算後をグローバルに\n",
    "                self.theta_history_v = theta_history_v\n",
    "                self.theta_T_v = theta_T_v\n",
    "                self.coef_v = theta_T_v.T[:, 1:]\n",
    "                self.intercept_v = theta_T_v.T[:, 0]\n",
    "        \n",
    "        #\n",
    "        # バイアス項がない場合\n",
    "        #\n",
    "        else:\n",
    "\n",
    "            # yの変形\n",
    "            y = ytrain.reshape(ytrain.shape[0], 1)\n",
    "            \n",
    "            # Xの指定\n",
    "            X = Xtrain\n",
    "            \n",
    "            # 重みの設定\n",
    "            self.theta = np.zeros((1, X.shape[1]))  # 重みの設定\n",
    "            theta_T = self.theta.T\n",
    "            theta_history = np.zeros((self.iter, X.shape[1]))  # iter回繰り返すので初期値\n",
    "\n",
    "            for i in range(self.iter):\n",
    "                theta_T = self._gradient_descent(X, y, theta_T)\n",
    "                theta_history[i] = theta_T.T\n",
    "                self.theta_T = theta_T\n",
    "                self.loss[i] = self.get_loss(X, y, theta_T)\n",
    "\n",
    "            # 計算後をグローバルに\n",
    "            self.theta_history = theta_history\n",
    "            self.theta_T = theta_T\n",
    "            self.coef_ = theta_T.T[:, ]\n",
    "\n",
    "            # 学習仮定出力\n",
    "            if self.verbose:\n",
    "                print('学習過程 : {}'.format(theta_history))\n",
    "                \n",
    "            #   \n",
    "            # 検証データがONのとき\n",
    "            #\n",
    "            \n",
    "            if type(Xtrain)==type(X_val):\n",
    "                \n",
    "                # Xの指定\n",
    "                Xv = X_val\n",
    "\n",
    "                # yの変形\n",
    "                yv = y_val.reshape(y_val.shape[0], 1)\n",
    "\n",
    "                # 重みの設定\n",
    "                self.theta_v = np.zeros((1, Xv.shape[1]))  # 重みの設定\n",
    "                theta_T_v = self.theta_v.T\n",
    "                theta_history_v = np.zeros((self.iter, Xv.shape[1]))  # iter回繰り返すので初期値\n",
    "\n",
    "                for i in range(self.iter):\n",
    "                    theta_T_v = self._gradient_descent(Xv, yv, theta_T_v)\n",
    "                    theta_history_v[i] = theta_T_v.T\n",
    "                    self.theta_T_v = theta_T_v\n",
    "                    self.val_loss[i] = self.get_loss(Xv, yv, theta_T_v)\n",
    "\n",
    "                # 計算後をグローバルに\n",
    "                self.theta_history_v = theta_history_v\n",
    "                self.theta_T_v = theta_T_v\n",
    "                self.coef_v = theta_T_v.T[:, ]\n",
    "        \n",
    "    def draw_graph(self):\n",
    "        \"\"\"\n",
    "        グラフを書くだけ\n",
    "        \"\"\"\n",
    "        plt.xlabel('iter')\n",
    "        plt.ylabel('theta')\n",
    "        for i in range(self.theta_history.shape[1]):\n",
    "            plt.plot(np.arange(self.iter), self.theta_history[:, i], label='theta' + str(i))\n",
    "        plt.legend();\n",
    "\n",
    "\n",
    "    def get_loss(self, X, y, theta_T):\n",
    "        \"\"\"\n",
    "        平均二乗誤差の計算\n",
    "        Parameters\n",
    "        ----------\n",
    "        y_pred : 次の形のndarray, shape (n_samples,)\n",
    "          推定した値\n",
    "        y : 次の形のndarray, shape (n_samples,)\n",
    "          正解値\n",
    "        Returns\n",
    "        ----------\n",
    "        mse : numpy.float\n",
    "          平均二乗誤差\n",
    "        \"\"\"\n",
    "\n",
    "        # 計算用\n",
    "        yi_pred = np.array([])\n",
    "\n",
    "        # 損失の計算\n",
    "        for i in range(X.shape[0]):\n",
    "            yi_pred = np.append(yi_pred, X[i] @ theta_T)\n",
    "        \n",
    "        # 計算式\n",
    "        loss = ((yi_pred - y).astype('uint64') ** 2).sum() / (X.shape[0] * 2)\n",
    "\n",
    "        return loss\n",
    "    \n",
    "    def predict(self, Xtest):\n",
    "        \"\"\"\n",
    "        線形回帰を使い推定する。\n",
    "        Parameters\n",
    "        ----------\n",
    "        test_X : 次の形のndarray, shape (n_samples, n_features)\n",
    "            サンプル\n",
    "        Returns\n",
    "        -------\n",
    "            次の形のndarray, shape (n_samples, 1)\n",
    "            線形回帰による推定結果\n",
    "        \"\"\"\n",
    "        #\n",
    "        #バイアスありの場合\n",
    "        #\n",
    "        if self.no_bias == False:\n",
    "            X_0 = 1\n",
    "            X = np.zeros((Xtest.shape[0], Xtest.shape[1] + 1))  # 初期化0埋め\n",
    "\n",
    "            # Xの追加\n",
    "            for i in range(Xtest.shape[0]):\n",
    "                X[i] = np.append(X_0, Xtest[i])  # 切片ステータスである1を各行に１番目に追加\n",
    "\n",
    "            # y_predの計算\n",
    "            y_pred = np.array([])\n",
    "\n",
    "            for i in range(X.shape[0]):\n",
    "                y_pred = np.append(y_pred, X[i] @ self.theta_T)\n",
    "                y_pred = y_pred.reshape(y_pred.shape[0], 1)\n",
    "        \n",
    "            return y_pred\n",
    "        \n",
    "        \n",
    "        #\n",
    "        #バイアスなしの場合\n",
    "        #\n",
    "        if self.no_bias == True:\n",
    "\n",
    "            # y_predの計算\n",
    "            y_pred = np.array([])\n",
    "\n",
    "            for i in range(Xtest.shape[0]):\n",
    "                y_pred = np.append(y_pred, Xtest[i] @ self.theta_T)\n",
    "                y_pred = y_pred.reshape(y_pred.shape[0], 1)\n",
    "        \n",
    "            return y_pred"
   ]
  },
  {
   "cell_type": "code",
   "execution_count": 112,
   "id": "b25606c5-00b1-48cd-9469-ed4c5894c306",
   "metadata": {},
   "outputs": [],
   "source": [
    "# 検証でーた　セット\n",
    "train_x = np.array([0, 1, 2, 3, 4, 5, 6])\n",
    "train_y = np.array([1, 3, 5, 7.25, 8.75, 10.75, 12.25])\n",
    "test_x = np.array([7, 8, 9, 10])\n",
    "test_y = np.array([15, 17, 19, 21])\n",
    "train_x = train_x.reshape(train_x.shape[0], 1)\n",
    "train_y = train_y.reshape(train_y.shape[0], 1)\n",
    "test_x = test_x.reshape(test_x.shape[0], 1)\n",
    "test_y = test_y.reshape(test_y.shape[0], 1)"
   ]
  },
  {
   "cell_type": "code",
   "execution_count": 113,
   "id": "6a49bb1c-035d-440b-8b69-631794644ec3",
   "metadata": {
    "tags": []
   },
   "outputs": [
    {
     "name": "stdout",
     "output_type": "stream",
     "text": [
      "学習過程 : [[0.06857143 0.27937143]\n",
      " [0.128076   0.52063943]\n",
      " [0.17974749 0.72899245]\n",
      " [0.22465167 0.90891246]\n",
      " [0.2637092  1.06427113]\n",
      " [0.29771541 1.19841299]\n",
      " [0.32735729 1.31422716]\n",
      " [0.35322833 1.41420935]\n",
      " [0.3758412  1.50051547]\n",
      " [0.39563875 1.57500787]\n",
      " [0.41300355 1.63929531]\n",
      " [0.42826609 1.69476751]\n",
      " [0.44171183 1.74262495]\n",
      " [0.45358739 1.78390465]\n",
      " [0.46410581 1.81950245]\n",
      " [0.4734511  1.85019217]\n",
      " [0.48178226 1.87664229]\n",
      " [0.48923659 1.89943027]\n",
      " [0.49593275 1.91905492]\n",
      " [0.5019732  1.93594716]\n",
      " [0.50744648 1.9504792 ]\n",
      " [0.51242907 1.96297261]\n",
      " [0.51698703 1.97370513]\n",
      " [0.52117744 1.98291671]\n",
      " [0.52504959 1.99081462]\n",
      " [0.52864608 1.99757791]\n",
      " [0.53200371 2.00336124]\n",
      " [0.53515427 2.00829822]\n",
      " [0.53812521 2.01250427]\n",
      " [0.54094026 2.01607908]]\n"
     ]
    },
    {
     "data": {
      "text/plain": [
       "array([[14.6534938 ],\n",
       "       [16.66957288],\n",
       "       [18.68565196],\n",
       "       [20.70173103]])"
      ]
     },
     "execution_count": 113,
     "metadata": {},
     "output_type": "execute_result"
    }
   ],
   "source": [
    "# 自分のモデルの結果\n",
    "test = ScratchLinearRegression(num_iter=30, lr=0.01, verbose=True)\n",
    "test.fit(train_x, train_y, test_x, test_y)\n",
    "test.predict(test_x)"
   ]
  },
  {
   "cell_type": "code",
   "execution_count": 35,
   "id": "1de282a1-3ed3-4200-b349-938d82561d2e",
   "metadata": {},
   "outputs": [
    {
     "data": {
      "text/plain": [
       "array([[15.35],\n",
       "       [17.2 ],\n",
       "       [19.05],\n",
       "       [20.9 ]])"
      ]
     },
     "execution_count": 35,
     "metadata": {},
     "output_type": "execute_result"
    }
   ],
   "source": [
    "# 公式の結果\n",
    "from sklearn.linear_model import LinearRegression\n",
    "reg = LinearRegression()\n",
    "reg.fit(test_x.reshape(test_x.shape[0], 1), test_y)\n",
    "reg.predict(test_x.reshape(test_x.shape[0], 1))"
   ]
  },
  {
   "cell_type": "code",
   "execution_count": 36,
   "id": "e75d47eb-bc31-4514-b210-0e9e73515ed0",
   "metadata": {},
   "outputs": [
    {
     "name": "stdout",
     "output_type": "stream",
     "text": [
      "[[1.85]]\n",
      "[2.4]\n",
      "[[2.02626725]]\n",
      "[0.54393779]\n"
     ]
    }
   ],
   "source": [
    "# 係数の確認\n",
    "print(reg.coef_)\n",
    "print(reg.intercept_)\n",
    "print(test.coef_)\n",
    "print(test.intercept_)"
   ]
  },
  {
   "cell_type": "markdown",
   "id": "b705dbd9-c426-49d6-9644-21f506e663de",
   "metadata": {},
   "source": [
    "予測値はほぼほぼ同じ値になった。  \n",
    "係数は多少ずれているが、どちらも想定している係数に完璧に合うわけではなかった。"
   ]
  },
  {
   "cell_type": "markdown",
   "id": "57cbc07a-096a-43a9-90af-33baceea33a3",
   "metadata": {},
   "source": [
    "## 【問題6】学習と推定\n",
    "機械学習スクラッチ入門のSprintで用意したHouse Pricesコンペティションのデータに対してスクラッチ実装の学習と推定を行なってください。\n",
    "\n",
    "\n",
    "scikit-learnによる実装と比べ、正しく動いているかを確認してください。"
   ]
  },
  {
   "cell_type": "code",
   "execution_count": 12,
   "id": "1f48283a-d073-44f5-83ef-84dd01b95cf8",
   "metadata": {},
   "outputs": [],
   "source": [
    "import pandas as pd\n",
    "house_train = pd.read_csv('train.csv')\n",
    "house_test = pd.read_csv('test.csv')\n",
    "house_X_test = house_test[['GrLivArea', 'YearBuilt']]\n",
    "TARGET = house_train['SalePrice']\n",
    "house_X_train = house_train[['GrLivArea', 'YearBuilt']]"
   ]
  },
  {
   "cell_type": "code",
   "execution_count": 13,
   "id": "5bfb059e-47c8-4f38-9db3-3027e8e6ad75",
   "metadata": {},
   "outputs": [
    {
     "name": "stdout",
     "output_type": "stream",
     "text": [
      "[  95.16733349 1045.86241944]\n",
      "-2024976.362585636\n"
     ]
    }
   ],
   "source": [
    "H_model_L = LinearRegression()\n",
    "H_model_L.fit(house_X_train.values, TARGET.values)\n",
    "print(H_model_L.coef_)\n",
    "print(H_model_L.intercept_)"
   ]
  },
  {
   "cell_type": "code",
   "execution_count": 14,
   "id": "ca0fe357-806b-43e3-a37d-b3c1b1a8be29",
   "metadata": {},
   "outputs": [],
   "source": [
    "# 学習率は目的関数の値の合計がかなり大きいため、相当小さくしないと発散する\n",
    "H_model = ScratchLinearRegression(num_iter=30, lr=0.00000038)\n",
    "H_model.fit(house_X_train.values, TARGET.values)"
   ]
  },
  {
   "cell_type": "code",
   "execution_count": 15,
   "id": "a48a5d5d-c807-4f8d-bc05-181570ecab58",
   "metadata": {},
   "outputs": [
    {
     "name": "stdout",
     "output_type": "stream",
     "text": [
      "[[104.53537754  11.65326549]]\n",
      "[0.06085764]\n"
     ]
    }
   ],
   "source": [
    "print(H_model.coef_)\n",
    "print(H_model.intercept_)"
   ]
  },
  {
   "cell_type": "code",
   "execution_count": 16,
   "id": "0f979e4c-850c-4bef-beef-32fb7df5347e",
   "metadata": {},
   "outputs": [
    {
     "data": {
      "image/png": "[encoded data removed]",
      "text/plain": [
       "<Figure size 432x288 with 1 Axes>"
      ]
     },
     "metadata": {
      "needs_background": "light"
     },
     "output_type": "display_data"
    }
   ],
   "source": [
    "H_model.draw_graph()"
   ]
  },
  {
   "cell_type": "code",
   "execution_count": 17,
   "id": "0aa22abc-cdd5-4471-a117-8dd77ec3677e",
   "metadata": {},
   "outputs": [],
   "source": [
    "my = H_model.predict(house_X_test.values)\n",
    "sk = H_model_L.predict(house_X_test.values)"
   ]
  },
  {
   "cell_type": "code",
   "execution_count": 18,
   "id": "6694ebd9-95cf-4bd6-898b-e41b46feffac",
   "metadata": {},
   "outputs": [
    {
     "data": {
      "text/html": [
       "<div>\n",
       "<style scoped>\n",
       "    .dataframe tbody tr th:only-of-type {\n",
       "        vertical-align: middle;\n",
       "    }\n",
       "\n",
       "    .dataframe tbody tr th {\n",
       "        vertical-align: top;\n",
       "    }\n",
       "\n",
       "    .dataframe thead th {\n",
       "        text-align: right;\n",
       "    }\n",
       "</style>\n",
       "<table border=\"1\" class=\"dataframe\">\n",
       "  <thead>\n",
       "    <tr style=\"text-align: right;\">\n",
       "      <th></th>\n",
       "      <th>my_model_pred</th>\n",
       "      <th>sk_model_pred</th>\n",
       "    </tr>\n",
       "  </thead>\n",
       "  <tbody>\n",
       "    <tr>\n",
       "      <th>0</th>\n",
       "      <td>116515.812751</td>\n",
       "      <td>111229.772751</td>\n",
       "    </tr>\n",
       "    <tr>\n",
       "      <th>1</th>\n",
       "      <td>161744.671429</td>\n",
       "      <td>149299.640894</td>\n",
       "    </tr>\n",
       "    <tr>\n",
       "      <th>2</th>\n",
       "      <td>193559.762045</td>\n",
       "      <td>218638.475300</td>\n",
       "    </tr>\n",
       "    <tr>\n",
       "      <th>3</th>\n",
       "      <td>190958.030872</td>\n",
       "      <td>217305.154382</td>\n",
       "    </tr>\n",
       "    <tr>\n",
       "      <th>4</th>\n",
       "      <td>157018.648956</td>\n",
       "      <td>180195.763814</td>\n",
       "    </tr>\n",
       "    <tr>\n",
       "      <th>5</th>\n",
       "      <td>196231.068799</td>\n",
       "      <td>216929.376293</td>\n",
       "    </tr>\n",
       "    <tr>\n",
       "      <th>6</th>\n",
       "      <td>147296.858845</td>\n",
       "      <td>171345.201799</td>\n",
       "    </tr>\n",
       "    <tr>\n",
       "      <th>7</th>\n",
       "      <td>176427.613394</td>\n",
       "      <td>204076.895027</td>\n",
       "    </tr>\n",
       "    <tr>\n",
       "      <th>8</th>\n",
       "      <td>163372.000455</td>\n",
       "      <td>183909.246318</td>\n",
       "    </tr>\n",
       "    <tr>\n",
       "      <th>9</th>\n",
       "      <td>115157.196854</td>\n",
       "      <td>119310.191857</td>\n",
       "    </tr>\n",
       "    <tr>\n",
       "      <th>10</th>\n",
       "      <td>163058.738334</td>\n",
       "      <td>192941.338759</td>\n",
       "    </tr>\n",
       "    <tr>\n",
       "      <th>11</th>\n",
       "      <td>126145.064762</td>\n",
       "      <td>130348.624293</td>\n",
       "    </tr>\n",
       "    <tr>\n",
       "      <th>12</th>\n",
       "      <td>137121.279403</td>\n",
       "      <td>140341.194309</td>\n",
       "    </tr>\n",
       "    <tr>\n",
       "      <th>13</th>\n",
       "      <td>175218.769890</td>\n",
       "      <td>179165.553378</td>\n",
       "    </tr>\n",
       "    <tr>\n",
       "      <th>14</th>\n",
       "      <td>110406.835815</td>\n",
       "      <td>120161.806613</td>\n",
       "    </tr>\n",
       "    <tr>\n",
       "      <th>15</th>\n",
       "      <td>267397.042396</td>\n",
       "      <td>298281.794444</td>\n",
       "    </tr>\n",
       "    <tr>\n",
       "      <th>16</th>\n",
       "      <td>184814.094140</td>\n",
       "      <td>223099.600986</td>\n",
       "    </tr>\n",
       "    <tr>\n",
       "      <th>17</th>\n",
       "      <td>200865.929219</td>\n",
       "      <td>233571.920666</td>\n",
       "    </tr>\n",
       "    <tr>\n",
       "      <th>18</th>\n",
       "      <td>213828.316034</td>\n",
       "      <td>245372.670019</td>\n",
       "    </tr>\n",
       "    <tr>\n",
       "      <th>19</th>\n",
       "      <td>305168.929472</td>\n",
       "      <td>326457.194651</td>\n",
       "    </tr>\n",
       "  </tbody>\n",
       "</table>\n",
       "</div>"
      ],
      "text/plain": [
       "    my_model_pred  sk_model_pred\n",
       "0   116515.812751  111229.772751\n",
       "1   161744.671429  149299.640894\n",
       "2   193559.762045  218638.475300\n",
       "3   190958.030872  217305.154382\n",
       "4   157018.648956  180195.763814\n",
       "5   196231.068799  216929.376293\n",
       "6   147296.858845  171345.201799\n",
       "7   176427.613394  204076.895027\n",
       "8   163372.000455  183909.246318\n",
       "9   115157.196854  119310.191857\n",
       "10  163058.738334  192941.338759\n",
       "11  126145.064762  130348.624293\n",
       "12  137121.279403  140341.194309\n",
       "13  175218.769890  179165.553378\n",
       "14  110406.835815  120161.806613\n",
       "15  267397.042396  298281.794444\n",
       "16  184814.094140  223099.600986\n",
       "17  200865.929219  233571.920666\n",
       "18  213828.316034  245372.670019\n",
       "19  305168.929472  326457.194651"
      ]
     },
     "execution_count": 18,
     "metadata": {},
     "output_type": "execute_result"
    }
   ],
   "source": [
    "# 列名はリストで上げなきゃならない\n",
    "my_df = pd.DataFrame(my, columns=['my_model_pred'])\n",
    "sk_df = pd.DataFrame(sk, columns=['sk_model_pred'])\n",
    "RESULT = pd.concat([my_df, sk_df], axis=1)\n",
    "RESULT.head(20)"
   ]
  },
  {
   "cell_type": "markdown",
   "id": "fe9d906a-9374-47f5-8fdb-8d221e971491",
   "metadata": {},
   "source": [
    "予測値は桁数は同じなもののかなりずれている。\n",
    "損失関数で確認\n",
    "\n",
    "## 【問題7】学習曲線のプロット\n",
    "学習曲線を表示する関数を作成し、実行してください。グラフを見て損失が適切に下がっているかどうか確認してください。\n",
    "\n",
    "\n",
    "線形回帰クラスの雛形ではself.loss, self.val_lossに損失を記録しておくようになっているため、入力にはこれを利用してください。"
   ]
  },
  {
   "cell_type": "code",
   "execution_count": 19,
   "id": "044d0363-0e83-47b4-9d27-473b80189a9f",
   "metadata": {},
   "outputs": [],
   "source": [
    "# データ分割\n",
    "from sklearn.model_selection import train_test_split\n",
    "train_X75, test_X25 = train_test_split(house_X_train, random_state=0)\n",
    "TARGET_y75, TARGET_y25 = train_test_split(TARGET, random_state=0)"
   ]
  },
  {
   "cell_type": "code",
   "execution_count": 20,
   "id": "3f243223-90e4-45cb-857e-0bf10f56b846",
   "metadata": {},
   "outputs": [],
   "source": [
    "# skmodelでの検証\n",
    "sk_model = LinearRegression()\n",
    "sk_model.fit(train_X75.values, TARGET_y75.values)\n",
    "sk_pred = sk_model.predict(test_X25.values)\n",
    "\n",
    "# 誤差計算\n",
    "from sklearn.metrics import mean_squared_error\n",
    "sk_loss = mean_squared_error(TARGET_y25.values, sk_pred) / 2"
   ]
  },
  {
   "cell_type": "code",
   "execution_count": 21,
   "id": "838d6d58-1cbf-4a53-b0a3-5593ebbffebb",
   "metadata": {},
   "outputs": [],
   "source": [
    "# 自作モデルでの検証\n",
    "my_model = ScratchLinearRegression(num_iter=5000, lr=0.00000006)\n",
    "my_model.fit(train_X75.values, TARGET_y75.values, test_X25.values, TARGET_y25.values)\n",
    "\n",
    "# 誤差計算\n",
    "my_loss = my_model.loss"
   ]
  },
  {
   "cell_type": "code",
   "execution_count": 22,
   "id": "7d6fbe6b-6812-4b9f-b95a-b4aec48926be",
   "metadata": {},
   "outputs": [
    {
     "data": {
      "text/plain": [
       "1362954049.5318189"
      ]
     },
     "metadata": {},
     "output_type": "display_data"
    },
    {
     "data": {
      "text/plain": [
       "5095409079060.666"
      ]
     },
     "metadata": {},
     "output_type": "display_data"
    }
   ],
   "source": [
    "display(sk_loss)\n",
    "display(my_loss[-1])"
   ]
  },
  {
   "cell_type": "markdown",
   "id": "41e842ca-38fd-4b8a-90b0-a03987e5e07d",
   "metadata": {},
   "source": [
    "自作モデルの方が200倍誤差の値が多かった。  \n",
    "学習率を変化させても値は大きく変わらない結果となった。"
   ]
  },
  {
   "cell_type": "code",
   "execution_count": 23,
   "id": "fcd5d895-cd5f-4e7e-bb34-438b87123ef6",
   "metadata": {},
   "outputs": [],
   "source": [
    "# 自作モデルでの検証\n",
    "my_model2 = ScratchLinearRegression(num_iter=30, lr=0.00000004)\n",
    "my_model2.fit(train_X75.values, TARGET_y75.values, test_X25.values, TARGET_y25.values)\n",
    "\n",
    "# 誤差計算\n",
    "my_loss2 = my_model.loss"
   ]
  },
  {
   "cell_type": "code",
   "execution_count": 24,
   "id": "e3d0880d-5156-4215-9060-eccbf36878b4",
   "metadata": {},
   "outputs": [
    {
     "data": {
      "image/png": "[encoded data removed]",
      "text/plain": [
       "<Figure size 432x288 with 1 Axes>"
      ]
     },
     "metadata": {
      "needs_background": "light"
     },
     "output_type": "display_data"
    }
   ],
   "source": [
    "plt.plot(np.arange(my_model2.iter), my_model2.loss, label='train_loss')\n",
    "plt.plot(np.arange(my_model2.iter), my_model2.val_loss, label='val_loss')\n",
    "plt.legend();"
   ]
  },
  {
   "cell_type": "markdown",
   "id": "309994ce-74ab-4607-82bb-4931b22c47fa",
   "metadata": {},
   "source": [
    "誤差関数に関しては、目的通り最小化できている。 "
   ]
  },
  {
   "cell_type": "code",
   "execution_count": 25,
   "id": "decb78a8-0dc7-43e3-b2ed-3f11129194dd",
   "metadata": {},
   "outputs": [
    {
     "data": {
      "image/png": "[encoded data removed]",
      "text/plain": [
       "<Figure size 432x288 with 1 Axes>"
      ]
     },
     "metadata": {
      "needs_background": "light"
     },
     "output_type": "display_data"
    }
   ],
   "source": [
    "plt.plot(np.arange(my_model.iter), my_model.loss, label='train_loss')\n",
    "plt.plot(np.arange(my_model.iter), my_model.val_loss, label='val_loss')\n",
    "plt.legend();"
   ]
  },
  {
   "cell_type": "markdown",
   "id": "9d4125e9-a1f5-4557-b24e-b5c38a3bc7ac",
   "metadata": {},
   "source": [
    "5000回繰り返した場合、100-200回で誤差が増加している。  \n",
    "原因を探る。"
   ]
  },
  {
   "cell_type": "markdown",
   "id": "5503baf1-f926-4c23-b95c-ff75bf1bbf4d",
   "metadata": {},
   "source": [
    "## 【問題8】（アドバンス課題）バイアス項の除去\n",
    "バイアス項 $\\theta_0$ を抜くと学習がどう変化するか検証してください。また、線形回帰モデルにおけるバイアス項の役割の考察・調査を行ってください。"
   ]
  },
  {
   "cell_type": "code",
   "execution_count": 37,
   "id": "1acaa946-688e-4ad4-83da-f915102a9305",
   "metadata": {},
   "outputs": [
    {
     "name": "stdout",
     "output_type": "stream",
     "text": [
      "[[104.53537754  11.65326549]]\n",
      "[0.06085764]\n"
     ]
    }
   ],
   "source": [
    "# バイアス項ありの場合\n",
    "\n",
    "BY_model = ScratchLinearRegression(num_iter=30, lr=0.00000038)\n",
    "BY_model.fit(house_X_train.values, TARGET.values)\n",
    "print(BY_model.coef_)\n",
    "print(BY_model.intercept_)"
   ]
  },
  {
   "cell_type": "code",
   "execution_count": 39,
   "id": "11338871-1181-4061-bf3e-064887a6edce",
   "metadata": {},
   "outputs": [
    {
     "name": "stdout",
     "output_type": "stream",
     "text": [
      "[[104.53537689  11.65329684]]\n"
     ]
    }
   ],
   "source": [
    "# バイアス項なしの場合\n",
    "\n",
    "BN_model = ScratchLinearRegression(num_iter=30, lr=0.00000038, no_bias=True)\n",
    "BN_model.fit(house_X_train.values, TARGET.values)\n",
    "print(BN_model.coef_)"
   ]
  },
  {
   "cell_type": "code",
   "execution_count": 28,
   "id": "a8b15ae1-47ca-4673-ab64-214549b3bc40",
   "metadata": {},
   "outputs": [
    {
     "data": {
      "image/png": "[encoded data removed]",
      "text/plain": [
       "<Figure size 432x288 with 1 Axes>"
      ]
     },
     "metadata": {
      "needs_background": "light"
     },
     "output_type": "display_data"
    }
   ],
   "source": [
    "BY_model.draw_graph()"
   ]
  },
  {
   "cell_type": "code",
   "execution_count": 29,
   "id": "4a325de0-60e8-420b-ba71-a3eec3224ea2",
   "metadata": {},
   "outputs": [
    {
     "data": {
      "image/png": "[encoded data removed]",
      "text/plain": [
       "<Figure size 432x288 with 1 Axes>"
      ]
     },
     "metadata": {
      "needs_background": "light"
     },
     "output_type": "display_data"
    }
   ],
   "source": [
    "BN_model.draw_graph()"
   ]
  },
  {
   "cell_type": "code",
   "execution_count": 30,
   "id": "2cc8f653-57fe-46e6-ad68-52cbb1e8e12a",
   "metadata": {},
   "outputs": [
    {
     "data": {
      "image/png": "[encoded data removed]",
      "text/plain": [
       "<Figure size 432x288 with 1 Axes>"
      ]
     },
     "metadata": {
      "needs_background": "light"
     },
     "output_type": "display_data"
    }
   ],
   "source": [
    "# 誤差関数\n",
    "\n",
    "plt.plot(np.arange(BY_model.iter), BY_model.loss, label='bias_loss')\n",
    "plt.plot(np.arange(BN_model.iter), BN_model.loss, label='no_bias_loss')\n",
    "plt.legend();"
   ]
  },
  {
   "cell_type": "code",
   "execution_count": 31,
   "id": "9732b387-7897-44b5-b6cb-e377e4ec8670",
   "metadata": {},
   "outputs": [
    {
     "data": {
      "text/plain": [
       "'bias有 loss : 6811048377089.714'"
      ]
     },
     "metadata": {},
     "output_type": "display_data"
    },
    {
     "data": {
      "text/plain": [
       "'bias無 loss : 6811048365127.562'"
      ]
     },
     "metadata": {},
     "output_type": "display_data"
    }
   ],
   "source": [
    "display('bias有 loss : {}'.format(BY_model.loss[-1]))\n",
    "display('bias無 loss : {}'.format(BN_model.loss[-1]))"
   ]
  },
  {
   "cell_type": "markdown",
   "id": "b150a2fe-dba9-4756-9aea-00154c770079",
   "metadata": {},
   "source": [
    "今回のモデルだとそもそもバイアスの重みが0.06と小さい値であったので、そこまで差はなかった。  \n",
    "テストデータセットでも検証。"
   ]
  },
  {
   "cell_type": "code",
   "execution_count": 80,
   "id": "08b1e633-8ef4-4e7c-a12b-bc94e25e2926",
   "metadata": {},
   "outputs": [],
   "source": [
    "# 検証でーた　セット\n",
    "train_x = np.array([0, 1, 2, 3, 4, 5, 6])\n",
    "train_y = np.array([11, 13, 15, 17.25, 18.75, 20.75, 22.25])\n",
    "test_x = np.array([7, 8, 9, 10])\n",
    "test_y = np.array([25, 27, 29, 31])\n",
    "train_x = train_x.reshape(train_x.shape[0], 1)\n",
    "train_y = train_y.reshape(train_y.shape[0], 1)\n",
    "test_x = test_x.reshape(test_x.shape[0], 1)\n",
    "test_y = test_y.reshape(test_y.shape[0], 1)"
   ]
  },
  {
   "cell_type": "markdown",
   "id": "743a7f58-4af1-45c7-ba44-4b9214f54f8c",
   "metadata": {},
   "source": [
    "$$y=2x+10$$"
   ]
  },
  {
   "cell_type": "code",
   "execution_count": 81,
   "id": "bcc9afc3-6dc9-4d34-94dc-0c054b27143a",
   "metadata": {},
   "outputs": [
    {
     "name": "stdout",
     "output_type": "stream",
     "text": [
      "[[4.02945562]]\n",
      "[1.86446893]\n",
      "[[30.07065829]\n",
      " [34.10011392]\n",
      " [38.12956954]\n",
      " [42.15902516]]\n"
     ]
    }
   ],
   "source": [
    "#  バイアスがある場合\n",
    "BY_test = ScratchLinearRegression(num_iter=30, lr=0.01)\n",
    "BY_test.fit(train_x, train_y, test_x, test_y)\n",
    "print(BY_test.coef_)\n",
    "print(BY_test.intercept_)\n",
    "print(BY_test.predict(test_x))"
   ]
  },
  {
   "cell_type": "code",
   "execution_count": 85,
   "id": "6a3e4bfb-4ba2-4c82-be67-50b9cb2f410f",
   "metadata": {},
   "outputs": [
    {
     "name": "stdout",
     "output_type": "stream",
     "text": [
      "[[4.40395803]]\n",
      "[[30.82770624]\n",
      " [35.23166427]\n",
      " [39.6356223 ]\n",
      " [44.03958034]]\n"
     ]
    }
   ],
   "source": [
    "# バイアスがない場合\n",
    "BN_test = ScratchLinearRegression(num_iter=30, lr=0.01, no_bias=True)\n",
    "BN_test.fit(train_x, train_y, test_x, test_y)\n",
    "print(BN_test.coef_)\n",
    "print(BN_test.predict(test_x))"
   ]
  },
  {
   "cell_type": "code",
   "execution_count": 83,
   "id": "831d465c-e051-4275-bff7-e26ca97b7ebd",
   "metadata": {},
   "outputs": [
    {
     "data": {
      "text/plain": [
       "array([15, 17, 19, 21])"
      ]
     },
     "execution_count": 83,
     "metadata": {},
     "output_type": "execute_result"
    }
   ],
   "source": [
    "np.array([7, 8, 9, 10]) *2 + 1"
   ]
  },
  {
   "cell_type": "code",
   "execution_count": 84,
   "id": "0bcf78f4-6e2c-4de7-a02b-67d619d2cfcc",
   "metadata": {},
   "outputs": [
    {
     "data": {
      "image/png": "[encoded data removed]",
      "text/plain": [
       "<Figure size 432x288 with 1 Axes>"
      ]
     },
     "metadata": {
      "needs_background": "light"
     },
     "output_type": "display_data"
    }
   ],
   "source": [
    "plt.plot(np.array([7, 8, 9, 10]), BY_test.predict(test_x), label='bias_predict')\n",
    "plt.plot(np.array([7, 8, 9, 10]), BN_test.predict(test_x), label='no_bias_predict')\n",
    "plt.plot(np.array([7, 8, 9, 10]), np.array([7, 8, 9, 10]) *2 + 1, label='True')\n",
    "plt.xlabel('X')\n",
    "plt.ylabel('Y')\n",
    "plt.title('pred')\n",
    "plt.legend();"
   ]
  },
  {
   "cell_type": "markdown",
   "id": "656bb4d9-ef4d-4df5-bef2-481ca4fab358",
   "metadata": {},
   "source": [
    "思った通りの結果にはならなかったが、データセットを原点に移動する効果があると考えられる。  \n",
    "上のグラフでも多少バイアスが働き、傾きではなく切片(垂直移動)で予測値を捉えようとしていた。"
   ]
  },
  {
   "cell_type": "markdown",
   "id": "4cc3e0a9-99ee-4444-a931-87119b9da137",
   "metadata": {},
   "source": [
    "## 【問題9】（アドバンス課題）特徴量の多次元化\n",
    "特徴量の二乗や三乗を入力に利用すると学習結果がどう変化するか検証してください。"
   ]
  },
  {
   "cell_type": "code",
   "execution_count": 89,
   "id": "a83fcbbc-86a0-4be1-b05e-27bad30a3724",
   "metadata": {},
   "outputs": [
    {
     "data": {
      "text/plain": [
       "array([[2372, 1892],\n",
       "       [1472, 1991],\n",
       "       [ 960, 1965],\n",
       "       ...,\n",
       "       [1902, 1978],\n",
       "       [1557, 2003],\n",
       "       [1839, 1998]])"
      ]
     },
     "execution_count": 89,
     "metadata": {},
     "output_type": "execute_result"
    }
   ],
   "source": [
    "from sklearn.preprocessing import PolynomialFeatures\n",
    "# データ分割\n",
    "train_X75, test_X25 = train_test_split(house_X_train, random_state=0)\n",
    "TARGET_y75, TARGET_y25 = train_test_split(TARGET, random_state=0)\n",
    "\n",
    "train_X75.values"
   ]
  },
  {
   "cell_type": "code",
   "execution_count": 94,
   "id": "aadd1a24-f1e6-4762-b02e-fd68fd6cf6e8",
   "metadata": {},
   "outputs": [
    {
     "data": {
      "text/plain": [
       "array([[1.000000e+00, 2.372000e+03, 1.892000e+03, 5.626384e+06,\n",
       "        4.487824e+06, 3.579664e+06],\n",
       "       [1.000000e+00, 1.472000e+03, 1.991000e+03, 2.166784e+06,\n",
       "        2.930752e+06, 3.964081e+06],\n",
       "       [1.000000e+00, 9.600000e+02, 1.965000e+03, 9.216000e+05,\n",
       "        1.886400e+06, 3.861225e+06],\n",
       "       ...,\n",
       "       [1.000000e+00, 1.902000e+03, 1.978000e+03, 3.617604e+06,\n",
       "        3.762156e+06, 3.912484e+06],\n",
       "       [1.000000e+00, 1.557000e+03, 2.003000e+03, 2.424249e+06,\n",
       "        3.118671e+06, 4.012009e+06],\n",
       "       [1.000000e+00, 1.839000e+03, 1.998000e+03, 3.381921e+06,\n",
       "        3.674322e+06, 3.992004e+06]])"
      ]
     },
     "execution_count": 94,
     "metadata": {},
     "output_type": "execute_result"
    }
   ],
   "source": [
    "poly = PolynomialFeatures(2)\n",
    "train_X75_2 = poly.fit_transform(train_X75.values)\n",
    "test_X25_2 = poly.fit_transform(test_X25.values)\n",
    "# [1, a, b, a^2, ab, b^2]の特徴量に増加\n",
    "train_X75_2"
   ]
  },
  {
   "cell_type": "code",
   "execution_count": 147,
   "id": "f730fd3a-3bcc-428e-bc5b-b3b89ed7e822",
   "metadata": {},
   "outputs": [
    {
     "data": {
      "text/plain": [
       "array([[-635117.58571513],\n",
       "       [-392656.48402182],\n",
       "       [-320000.50034088],\n",
       "       [-505288.11533624],\n",
       "       [-304586.65490359]])"
      ]
     },
     "execution_count": 147,
     "metadata": {},
     "output_type": "execute_result"
    }
   ],
   "source": [
    "model_2 = ScratchLinearRegression(num_iter=50, lr=0.00000000000000000005)\n",
    "model_2.fit(train_X75_2, TARGET_y75.values)\n",
    "model_2.predict(test_X25_2)[:5]"
   ]
  },
  {
   "cell_type": "code",
   "execution_count": 145,
   "id": "b5049378-b940-4084-bb72-ec25231a4c0a",
   "metadata": {},
   "outputs": [
    {
     "data": {
      "image/png": "[encoded data removed]",
      "text/plain": [
       "<Figure size 432x288 with 1 Axes>"
      ]
     },
     "metadata": {
      "needs_background": "light"
     },
     "output_type": "display_data"
    }
   ],
   "source": [
    "model_2.draw_graph()"
   ]
  },
  {
   "cell_type": "markdown",
   "id": "eb716965-f29e-4d09-8f85-6ebdef5186f1",
   "metadata": {},
   "source": [
    "重みがマイナスの値になってしまった。  \n",
    "overflowが発生した可能性が高いが原因は不明。\n",
    "学習率を相当下げる必要があるが、どれだけ下げてもマイナスの値となってしまった。  \n",
    "正しく学習できていない可能性が高い。"
   ]
  },
  {
   "cell_type": "code",
   "execution_count": 164,
   "id": "6937dda2-83a3-407c-845d-a28f8d9d0d41",
   "metadata": {},
   "outputs": [],
   "source": [
    "# 検証でーた　セット\n",
    "train_x = np.array([0, 1, 2, 3, 4, 5, 6])\n",
    "train_y = np.array([11, 13, 15, 17.25, 18.75, 20.75, 22.25])\n",
    "test_x = np.array([7, 8, 9, 10])\n",
    "test_y = np.array([25, 27, 29, 31])\n",
    "train_x = train_x.reshape(train_x.shape[0], 1)\n",
    "train_y = train_y.reshape(train_y.shape[0], 1)\n",
    "test_x = test_x.reshape(test_x.shape[0], 1)\n",
    "test_y = test_y.reshape(test_y.shape[0], 1)"
   ]
  },
  {
   "cell_type": "code",
   "execution_count": 165,
   "id": "5c47cb35-e80f-4270-9b97-e3801fbc9b1e",
   "metadata": {},
   "outputs": [
    {
     "data": {
      "text/plain": [
       "array([[ 0],\n",
       "       [ 1],\n",
       "       [ 4],\n",
       "       [ 9],\n",
       "       [16],\n",
       "       [25],\n",
       "       [36]])"
      ]
     },
     "execution_count": 165,
     "metadata": {},
     "output_type": "execute_result"
    }
   ],
   "source": [
    "poly = PolynomialFeatures(2)\n",
    "train_x_2 = train_x**2\n",
    "test_x_2 = test_x**2\n",
    "train_x_2"
   ]
  },
  {
   "cell_type": "code",
   "execution_count": 166,
   "id": "ad94d5bc-eeb2-4b49-8aed-0253e678e51d",
   "metadata": {},
   "outputs": [
    {
     "data": {
      "text/plain": [
       "array([[-6.58392625e+15],\n",
       "       [-8.55907843e+15],\n",
       "       [-1.07975842e+16],\n",
       "       [-1.32994437e+16]])"
      ]
     },
     "execution_count": 166,
     "metadata": {},
     "output_type": "execute_result"
    }
   ],
   "source": [
    "model_2 = ScratchLinearRegression(num_iter=1, lr=0.00005)\n",
    "model_2.fit(train_x_2, train_y)\n",
    "model_2.predict(test_x_2)"
   ]
  },
  {
   "cell_type": "markdown",
   "id": "d9fc59c9-4b97-416e-96ac-53ca808573d4",
   "metadata": {},
   "source": [
    "簡単なモデルでも同様  \n",
    "交互作用と呼ばれる技法であり、線形回帰では有効な手法らしいが...  \n",
    "頭の片隅に入れておく。"
   ]
  },
  {
   "cell_type": "markdown",
   "id": "68996a1d-9d01-4fb4-a6b7-56af0a14ce66",
   "metadata": {},
   "source": [
    "## 【問題10】（アドバンス課題）更新式の導出\n",
    "最急降下法の更新式は以下でした。この式が導出される過程を説明してください。"
   ]
  },
  {
   "cell_type": "markdown",
   "id": "9cb8c0aa-5dcc-4a2d-b900-e0ed331dbb72",
   "metadata": {},
   "source": [
    "$$\\theta_j=\\theta_j-\\alpha\\frac{1}{m}\\sum_{i=1}^{m}[(h_\\theta(x^i)-y^i)^2$$\n",
    "この式を$\\theta_j$で微分することで\n",
    "\n",
    "$$\\theta_j=\\theta_j-\\alpha\\frac{1}{m}\\sum_{i=1}^{m}[(h_\\theta(x^i)-y^i)x_j^i]$$\n",
    "この解をえられる"
   ]
  },
  {
   "cell_type": "markdown",
   "id": "ca3bb03a-9cd7-4f9c-964a-9984fc52300b",
   "metadata": {},
   "source": [
    "## 【問題11】（アドバンス課題）局所最適解の問題\n",
    "最急降下法には一般的に局所最適解の問題があります。しかし、線形回帰では学習を続ければ必ず最適解を求めることができます。それはなぜか数式やグラフを用いて説明してください。"
   ]
  },
  {
   "cell_type": "markdown",
   "id": "0894fef1-6547-48ce-8106-51ef2a717dc7",
   "metadata": {},
   "source": [
    "線形回帰の場合、目的関数は\n",
    "$$J(\\theta)=\\frac{1}{2m}\\sum_{i=1}^{m}(h_\\theta(x^i)-y^i)^2$$\n",
    "で求められる。($\\frac{1}{2m}$)の部分は最小化できるものではないので(定数)なんでも良い。\n",
    "つまり\n",
    "$$\\sum_{i=1}^{m}(h_\\theta(x^i)-y^i)^2$$"
   ]
  },
  {
   "cell_type": "markdown",
   "id": "b3301e0a-0764-42c7-ad7a-041d309cf187",
   "metadata": {},
   "source": [
    "この式で定数ではないのは$\\theta$の値だけである。  \n",
    "なので$\\theta$について解く必要があり、展開すると\n",
    "$$(h_\\theta(x^i))^2 - 2(h_\\theta(x^i)y^i + (y^i)^2$$"
   ]
  },
  {
   "cell_type": "markdown",
   "id": "9e0639a1-9db7-426b-8863-39ca99070c14",
   "metadata": {},
   "source": [
    "これを最小化する$\\theta$を求める必要がある。ここで\n",
    "$$h_\\theta(x) = \\theta_0x_0 + \\theta_1x_1 + \\theta_2x_2 + \\theta_3x_3....$$\n",
    "であるので二乗計算を行っても、全$\\theta$は二乗以上の累乗の値はとらない。（日本語...）  \n",
    "つまり、ただ一つの答えをもつ凸関数である証明となる。  \n",
    "すなわち、求められた$\\theta$は凸関数の唯一解、すなわち大域的最小値となる。  \n",
    "そのため、学習を続けることで最適解をえられる。"
   ]
  }
 ],
 "metadata": {
  "kernelspec": {
   "display_name": "Python 3",
   "language": "python",
   "name": "python3"
  },
  "language_info": {
   "codemirror_mode": {
    "name": "ipython",
    "version": 3
   },
   "file_extension": ".py",
   "mimetype": "text/x-python",
   "name": "python",
   "nbconvert_exporter": "python",
   "pygments_lexer": "ipython3",
   "version": "3.8.8"
  }
 },
 "nbformat": 4,
 "nbformat_minor": 5
}
